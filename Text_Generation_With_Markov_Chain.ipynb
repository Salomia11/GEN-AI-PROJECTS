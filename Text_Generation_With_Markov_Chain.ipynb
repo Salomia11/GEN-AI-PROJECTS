{
  "nbformat": 4,
  "nbformat_minor": 0,
  "metadata": {
    "colab": {
      "provenance": []
    },
    "kernelspec": {
      "name": "python3",
      "display_name": "Python 3"
    },
    "language_info": {
      "name": "python"
    }
  },
  "cells": [
    {
      "cell_type": "code",
      "execution_count": 2,
      "metadata": {
        "id": "GgX_lSTKj8wm"
      },
      "outputs": [],
      "source": [
        "text_a = open(\"/content/1342-0.txt\").read()\n",
        "text_b = open(\"/content/84-0.txt\").read()"
      ]
    },
    {
      "cell_type": "code",
      "source": [
        "print(text_a[:200])"
      ],
      "metadata": {
        "colab": {
          "base_uri": "https://localhost:8080/"
        },
        "id": "LGQqqPcHkz5Y",
        "outputId": "3aea72bb-31a5-4d15-d745-4c12c279f636"
      },
      "execution_count": 3,
      "outputs": [
        {
          "output_type": "stream",
          "name": "stdout",
          "text": [
            "﻿The Project Gutenberg EBook of Pride and Prejudice, by Jane Austen\n",
            "\n",
            "This eBook is for the use of anyone anywhere at no cost and with\n",
            "almost no restrictions whatsoever.  You may copy it, give it away \n"
          ]
        }
      ]
    },
    {
      "cell_type": "code",
      "source": [
        "import random\n",
        "random.sample(text_b, 20)"
      ],
      "metadata": {
        "colab": {
          "base_uri": "https://localhost:8080/"
        },
        "id": "qgs4XhQYkz7x",
        "outputId": "507d4170-92b1-4496-b6f9-ed80841b445c"
      },
      "execution_count": 4,
      "outputs": [
        {
          "output_type": "execute_result",
          "data": {
            "text/plain": [
              "['n',\n",
              " ' ',\n",
              " 'e',\n",
              " ' ',\n",
              " 't',\n",
              " 'n',\n",
              " ' ',\n",
              " 'v',\n",
              " ' ',\n",
              " 's',\n",
              " 't',\n",
              " ' ',\n",
              " 'y',\n",
              " 'a',\n",
              " 'a',\n",
              " 'y',\n",
              " 'h',\n",
              " 'r',\n",
              " 'f',\n",
              " ' ']"
            ]
          },
          "metadata": {},
          "execution_count": 4
        }
      ]
    },
    {
      "cell_type": "code",
      "source": [
        "a_words = text_a.split()\n",
        "b_words = text_b.split()"
      ],
      "metadata": {
        "id": "RM-YmJYXkz9_"
      },
      "execution_count": 5,
      "outputs": []
    },
    {
      "cell_type": "code",
      "source": [
        "random.sample(a_words, 10)"
      ],
      "metadata": {
        "colab": {
          "base_uri": "https://localhost:8080/"
        },
        "id": "4Hr_qkrok0BY",
        "outputId": "1a24d09b-b25d-41f9-837f-aaa359df35a7"
      },
      "execution_count": 6,
      "outputs": [
        {
          "output_type": "execute_result",
          "data": {
            "text/plain": [
              "['as', 'will', 'to', 'She', 'the', 'Miss', 'wished', 'other,', 'will', 'them.']"
            ]
          },
          "metadata": {},
          "execution_count": 6
        }
      ]
    },
    {
      "cell_type": "code",
      "source": [
        "random.sample(b_words, 10)"
      ],
      "metadata": {
        "colab": {
          "base_uri": "https://localhost:8080/"
        },
        "id": "5tXLzlVkk0I1",
        "outputId": "8b1f2dcd-303f-4c6a-805e-a1baebdcb150"
      },
      "execution_count": 7,
      "outputs": [
        {
          "output_type": "execute_result",
          "data": {
            "text/plain": [
              "['misery,',\n",
              " 'sledge,',\n",
              " 'trembled,',\n",
              " 'it,',\n",
              " 'and',\n",
              " 'as',\n",
              " 'my',\n",
              " 'my',\n",
              " 'was',\n",
              " 'now']"
            ]
          },
          "metadata": {},
          "execution_count": 7
        }
      ]
    },
    {
      "cell_type": "code",
      "source": [
        "from collections import Counter\n",
        "Counter(text_a).most_common(12)"
      ],
      "metadata": {
        "colab": {
          "base_uri": "https://localhost:8080/"
        },
        "id": "q-INow8ak0MF",
        "outputId": "30a6613c-34ac-4257-bf59-acc997c0d502"
      },
      "execution_count": 8,
      "outputs": [
        {
          "output_type": "execute_result",
          "data": {
            "text/plain": [
              "[(' ', 113941),\n",
              " ('e', 70344),\n",
              " ('t', 47283),\n",
              " ('a', 42156),\n",
              " ('o', 41138),\n",
              " ('n', 38430),\n",
              " ('i', 36273),\n",
              " ('h', 33883),\n",
              " ('r', 33293),\n",
              " ('s', 33292),\n",
              " ('d', 22247),\n",
              " ('l', 21282)]"
            ]
          },
          "metadata": {},
          "execution_count": 8
        }
      ]
    },
    {
      "cell_type": "code",
      "source": [
        "Counter(a_words).most_common(12)"
      ],
      "metadata": {
        "colab": {
          "base_uri": "https://localhost:8080/"
        },
        "id": "Mb0CYk2DlQvG",
        "outputId": "86ffbd8b-d26a-4e97-c702-96db18425137"
      },
      "execution_count": 9,
      "outputs": [
        {
          "output_type": "execute_result",
          "data": {
            "text/plain": [
              "[('the', 4205),\n",
              " ('to', 4121),\n",
              " ('of', 3662),\n",
              " ('and', 3309),\n",
              " ('a', 1945),\n",
              " ('her', 1858),\n",
              " ('in', 1813),\n",
              " ('was', 1795),\n",
              " ('I', 1740),\n",
              " ('that', 1419),\n",
              " ('not', 1356),\n",
              " ('she', 1306)]"
            ]
          },
          "metadata": {},
          "execution_count": 9
        }
      ]
    },
    {
      "cell_type": "code",
      "source": [
        "Counter(b_words).most_common(12)"
      ],
      "metadata": {
        "colab": {
          "base_uri": "https://localhost:8080/"
        },
        "id": "ATs9ognIlQw7",
        "outputId": "b01315c8-b51c-43bc-aa54-a6b8e491fcd3"
      },
      "execution_count": 10,
      "outputs": [
        {
          "output_type": "execute_result",
          "data": {
            "text/plain": [
              "[('the', 4056),\n",
              " ('and', 2971),\n",
              " ('of', 2741),\n",
              " ('I', 2719),\n",
              " ('to', 2142),\n",
              " ('my', 1631),\n",
              " ('a', 1394),\n",
              " ('in', 1125),\n",
              " ('was', 993),\n",
              " ('that', 987),\n",
              " ('with', 700),\n",
              " ('had', 679)]"
            ]
          },
          "metadata": {},
          "execution_count": 10
        }
      ]
    },
    {
      "cell_type": "code",
      "source": [
        "import sys\n",
        "!{sys.executable} -m pip install markovify"
      ],
      "metadata": {
        "colab": {
          "base_uri": "https://localhost:8080/"
        },
        "id": "Z8dXyrDmlQy0",
        "outputId": "2ffff346-392c-412e-8e10-9260fd2298da"
      },
      "execution_count": 11,
      "outputs": [
        {
          "output_type": "stream",
          "name": "stdout",
          "text": [
            "Collecting markovify\n",
            "  Downloading markovify-0.9.4.tar.gz (27 kB)\n",
            "  Preparing metadata (setup.py) ... \u001b[?25l\u001b[?25hdone\n",
            "Collecting unidecode (from markovify)\n",
            "  Downloading Unidecode-1.3.8-py3-none-any.whl.metadata (13 kB)\n",
            "Downloading Unidecode-1.3.8-py3-none-any.whl (235 kB)\n",
            "\u001b[2K   \u001b[90m━━━━━━━━━━━━━━━━━━━━━━━━━━━━━━━━━━━━━━━━\u001b[0m \u001b[32m235.5/235.5 kB\u001b[0m \u001b[31m7.0 MB/s\u001b[0m eta \u001b[36m0:00:00\u001b[0m\n",
            "\u001b[?25hBuilding wheels for collected packages: markovify\n",
            "  Building wheel for markovify (setup.py) ... \u001b[?25l\u001b[?25hdone\n",
            "  Created wheel for markovify: filename=markovify-0.9.4-py3-none-any.whl size=18607 sha256=9ffb324577b90110b1c1897e212f1bfb7081c5ec03eb990ec1d58b553d6efb5b\n",
            "  Stored in directory: /root/.cache/pip/wheels/9c/20/eb/1a3fb93f3132f2f9683e4efd834800f80c53aeddf50e84ae80\n",
            "Successfully built markovify\n",
            "Installing collected packages: unidecode, markovify\n",
            "Successfully installed markovify-0.9.4 unidecode-1.3.8\n"
          ]
        }
      ]
    },
    {
      "cell_type": "code",
      "source": [
        "import markovify"
      ],
      "metadata": {
        "id": "3bL-1lzDlQ1E"
      },
      "execution_count": 12,
      "outputs": []
    },
    {
      "cell_type": "code",
      "source": [
        "generator_a = markovify.Text(text_a)"
      ],
      "metadata": {
        "id": "3ID0uGjPlQ3S"
      },
      "execution_count": 13,
      "outputs": []
    },
    {
      "cell_type": "code",
      "source": [
        "print(generator_a.make_sentence())"
      ],
      "metadata": {
        "colab": {
          "base_uri": "https://localhost:8080/"
        },
        "id": "BQ-SJS54lQ7U",
        "outputId": "7d7c5dfd-37ae-4e89-ef52-1e9e66d5e09a"
      },
      "execution_count": 14,
      "outputs": [
        {
          "output_type": "stream",
          "name": "stdout",
          "text": [
            "Elizabeth told of his usual reserve, to Mrs. Bennet, who assured him that Mr. Darcy should have delivered his sentiments in a serious dispute must be done too much; and when it was decided.\n"
          ]
        }
      ]
    },
    {
      "cell_type": "code",
      "source": [
        "print(generator_a.make_short_sentence(50))"
      ],
      "metadata": {
        "colab": {
          "base_uri": "https://localhost:8080/"
        },
        "id": "n_U7Le6KlQ9d",
        "outputId": "943c3466-c6d7-41ce-bee3-253fc1ad89ee"
      },
      "execution_count": 15,
      "outputs": [
        {
          "output_type": "stream",
          "name": "stdout",
          "text": [
            "Though her manner as she was connected.\n"
          ]
        }
      ]
    },
    {
      "cell_type": "code",
      "source": [
        "print(generator_a.make_short_sentence(40, tries=100))"
      ],
      "metadata": {
        "colab": {
          "base_uri": "https://localhost:8080/"
        },
        "id": "graYtng3lpd5",
        "outputId": "61f0cfb6-7472-4e63-94c4-674ad48b47af"
      },
      "execution_count": 16,
      "outputs": [
        {
          "output_type": "stream",
          "name": "stdout",
          "text": [
            "I assure you in the room.\n"
          ]
        }
      ]
    },
    {
      "cell_type": "code",
      "source": [
        "print(generator_a.make_short_sentence(40, test_output=False))"
      ],
      "metadata": {
        "colab": {
          "base_uri": "https://localhost:8080/"
        },
        "id": "Ny7px4p7lpgK",
        "outputId": "767aad8b-252a-4bce-f60d-4b61fcdfc30f"
      },
      "execution_count": 17,
      "outputs": [
        {
          "output_type": "stream",
          "name": "stdout",
          "text": [
            "None\n"
          ]
        }
      ]
    },
    {
      "cell_type": "code",
      "source": [
        "gen_a_1 = markovify.Text(text_a, state_size=1)\n",
        "gen_a_4 = markovify.Text(text_a, state_size=4)"
      ],
      "metadata": {
        "id": "E0br45iUlpii"
      },
      "execution_count": 18,
      "outputs": []
    },
    {
      "cell_type": "code",
      "source": [
        "print(\"order 1\")\n",
        "print(gen_a_1.make_sentence(test_output=False))\n",
        "print()\n",
        "print(\"order 4\")\n",
        "print(gen_a_4.make_sentence(test_output=False))"
      ],
      "metadata": {
        "colab": {
          "base_uri": "https://localhost:8080/"
        },
        "id": "DqYEeF9elpkX",
        "outputId": "5105dfe2-dd72-4dae-d783-f67cb038d226"
      },
      "execution_count": 19,
      "outputs": [
        {
          "output_type": "stream",
          "name": "stdout",
          "text": [
            "order 1\n",
            "On both sides!\n",
            "\n",
            "order 4\n",
            "He began to feel the danger of paying Elizabeth too much attention.\n"
          ]
        }
      ]
    },
    {
      "cell_type": "code",
      "source": [
        "class SentencesByChar(markovify.Text):\n",
        "    def word_split(self, sentence):\n",
        "        return list(sentence)\n",
        "    def word_join(self, words):\n",
        "        return \"\".join(words)"
      ],
      "metadata": {
        "id": "nYOqNYOylpmq"
      },
      "execution_count": 20,
      "outputs": []
    },
    {
      "cell_type": "code",
      "source": [
        "con_model = SentencesByChar(\"condescendences\", state_size=2)"
      ],
      "metadata": {
        "id": "g8SCC5gUlpqM"
      },
      "execution_count": 21,
      "outputs": []
    },
    {
      "cell_type": "code",
      "source": [
        "con_model.make_sentence()"
      ],
      "metadata": {
        "colab": {
          "base_uri": "https://localhost:8080/",
          "height": 36
        },
        "id": "OHRV8ZdhmArD",
        "outputId": "a9c9e50d-eb9b-40d7-f6e2-4b255ba47796"
      },
      "execution_count": 22,
      "outputs": [
        {
          "output_type": "execute_result",
          "data": {
            "text/plain": [
              "'condendencescescescencendendendendencences'"
            ],
            "application/vnd.google.colaboratory.intrinsic+json": {
              "type": "string"
            }
          },
          "metadata": {},
          "execution_count": 22
        }
      ]
    },
    {
      "cell_type": "code",
      "source": [
        "gen_a_char = SentencesByChar(text_a, state_size=7)"
      ],
      "metadata": {
        "id": "3DvoQprAmAtQ"
      },
      "execution_count": 23,
      "outputs": []
    },
    {
      "cell_type": "code",
      "source": [
        "print(gen_a_char.make_sentence(test_output=False).replace(\"\\n\", \" \"))"
      ],
      "metadata": {
        "colab": {
          "base_uri": "https://localhost:8080/"
        },
        "id": "DDVgTI--mAwr",
        "outputId": "0a68db6f-b498-4463-c761-a244c5b40b40"
      },
      "execution_count": 24,
      "outputs": [
        {
          "output_type": "stream",
          "name": "stdout",
          "text": [
            "On this subject incredulity and the truth of his coming to the next moment was some console herself to her eyes, which her merely conditions were now appearance was perpetually more alive to his book.\n"
          ]
        }
      ]
    },
    {
      "cell_type": "code",
      "source": [
        "generator_a = markovify.Text(text_a)\n",
        "generator_b = markovify.Text(text_b)\n",
        "combo = markovify.combine([generator_a, generator_b], [0.5, 0.5])"
      ],
      "metadata": {
        "id": "I4cEnf-0lRAS"
      },
      "execution_count": 25,
      "outputs": []
    },
    {
      "cell_type": "code",
      "source": [
        "print(combo.make_sentence())"
      ],
      "metadata": {
        "colab": {
          "base_uri": "https://localhost:8080/"
        },
        "id": "CQI8_Ah4mOxw",
        "outputId": "787d6d24-7122-4708-af2b-5490125f6f21"
      },
      "execution_count": 26,
      "outputs": [
        {
          "output_type": "stream",
          "name": "stdout",
          "text": [
            "His father, Miss Bennet, to whom the spoiler has not yet satiated with blood, he had related and the kind of calm forgetfulness, of which are always acceptable to her, especially when contrasted with the Bingleys they both sat down.\n"
          ]
        }
      ]
    },
    {
      "cell_type": "code",
      "source": [
        "# change to \"word\" for a word-level model\n",
        "level = \"char\"\n",
        "# controls the length of the n-gram\n",
        "order = 7\n",
        "# controls the number of lines to output\n",
        "output_n = 14\n",
        "# weights between the models; text A first, text B second.\n",
        "# if you want to completely exclude one model, set its corresponding value to 0\n",
        "weights = [0.5, 0.5]\n",
        "# limit sentence output to this number of characters\n",
        "length_limit = 280"
      ],
      "metadata": {
        "id": "pxmBssn7mO0X"
      },
      "execution_count": 27,
      "outputs": []
    },
    {
      "cell_type": "code",
      "source": [
        "model_cls = markovify.Text if level == \"word\" else SentencesByChar\n",
        "gen_a = model_cls(text_a, state_size=order)\n",
        "gen_b = model_cls(text_b, state_size=order)\n",
        "gen_combo = markovify.combine([gen_a, gen_b], weights)\n",
        "for i in range(output_n):\n",
        "    out = gen_combo.make_short_sentence(length_limit, test_output=False)\n",
        "    out = out.replace(\"\\n\", \" \")\n",
        "    print(out)\n",
        "    print()"
      ],
      "metadata": {
        "colab": {
          "base_uri": "https://localhost:8080/"
        },
        "id": "RCwrtIQxmO2r",
        "outputId": "e46874c0-1c5e-491e-f04f-7c322b694a3c"
      },
      "execution_count": 28,
      "outputs": [
        {
          "output_type": "stream",
          "name": "stdout",
          "text": [
            "She knew but little displaying, performing a desperate, and I felt as if I were to happiness in a low bow he liveliest emotion; and with the mortification; my eyes.\n",
            "\n",
            "The words pierce my heart swelling on the discernment, a kind of being admitted a most sure often wish for hours of separated from the rivers; but I resolved to have often moving glacier, that she had been seized me; I struggle.\n",
            "\n",
            "The promontory I perceive, often made her a sort to be shut, and the trees.\n",
            "\n",
            "I believe me the wretched as he answered me with the perpendicular ascent of this agreed to, could not conceivable speedily be conceived.\n",
            "\n",
            "The patriarchal lives of chivalry, Christian forgive all my fortitude was to discovered with the occasion he soon satisfied, from suspected Mr. Collins was caught a violent death!\n",
            "\n",
            "It had attentions which had persuaded of me with those terms of my affect me either would be married, but it enlightened and could scarcely allowing Saturday, and at the time in the truth of my disorder.\n",
            "\n",
            "He bore his sister; and thought one word or scenes.\n",
            "\n",
            "Cursed by Mary and terrific ideas; and the assure you.\n",
            "\n",
            "The sanguine in Grosvenor Street, under this purpose I will hardly cost and archness in the evening, indeed be decisive a manner, render the roads were affecting from a neighbourhood for the pleasure in the first sought, and, without saying so.\n",
            "\n",
            "Those were both protested at length, she had advanced far enough to be told me the mother again, after her till she could make his guest.\n",
            "\n",
            "Sir William accomplishment.\n",
            "\n",
            "Wickham for ever attempting to labourers coming.\n",
            "\n",
            "And prayed that from his illness when I arrived while having a strong attractedly modest hopeless.\n",
            "\n",
            "Cold, want, Felix approached tone she had surrounding familiar to reason of her companion at Longbourn in the servants were not.\n",
            "\n"
          ]
        }
      ]
    },
    {
      "cell_type": "code",
      "source": [
        "sonnets_text = open(\"/content/sonnets.txt\").read()\n",
        "sonnets_model = markovify.NewlineText(sonnets_text, state_size=1)"
      ],
      "metadata": {
        "id": "GzPETfqymdpt"
      },
      "execution_count": 30,
      "outputs": []
    },
    {
      "cell_type": "code",
      "source": [
        "sonnets_model.make_sentence()"
      ],
      "metadata": {
        "colab": {
          "base_uri": "https://localhost:8080/",
          "height": 36
        },
        "id": "GrIufbN-mdrz",
        "outputId": "81a46b8f-e964-469a-f8e5-c142dbdfce64"
      },
      "execution_count": 31,
      "outputs": [
        {
          "output_type": "execute_result",
          "data": {
            "text/plain": [
              "\"When I may see down-raz'd,\""
            ],
            "application/vnd.google.colaboratory.intrinsic+json": {
              "type": "string"
            }
          },
          "metadata": {},
          "execution_count": 31
        }
      ]
    },
    {
      "cell_type": "code",
      "source": [
        "for i in range(14):\n",
        "    print(sonnets_model.make_sentence())"
      ],
      "metadata": {
        "colab": {
          "base_uri": "https://localhost:8080/"
        },
        "id": "-hCkTuHJmduB",
        "outputId": "5b192bd5-320b-436f-9e92-1170ca5a00b3"
      },
      "execution_count": 32,
      "outputs": [
        {
          "output_type": "stream",
          "name": "stdout",
          "text": [
            "Like as madmen's are,\n",
            "To set a beauty lived in eyes to the lawful reasons find thy self in my face the sad mortality o'ersways their woe,\n",
            "And many nymphs that thou art not, though alter'd new;\n",
            "His tender embassy of winter's near.\n",
            "To put a second life no lines of this sin you are, how thy soul's thought, that is not stop posterity?\n",
            "Bearing the spring,\n",
            "In act thy love, to give thee frown on thy sum of more doth plead for crime.\n",
            "They live unwoo'd, and sun,\n",
            "Those parts the bath and they now I am a happy me! what is too short,\n",
            "Both find thy mind's imprint will bestow it:\n",
            "Which should my verse distills your countenance fill'd with my mind;\n",
            "How can I never can I have lived for my brow;\n",
            "And your great deserts repay,\n",
            "Mark how with this miracle have sworn deep oaths but dressings of life,\n"
          ]
        }
      ]
    },
    {
      "cell_type": "code",
      "source": [
        "class LinesByChar(markovify.NewlineText):\n",
        "    def word_split(self, sentence):\n",
        "        return list(sentence)\n",
        "    def word_join(self, words):\n",
        "        return \"\".join(words)"
      ],
      "metadata": {
        "id": "6B_1TyCzmdwx"
      },
      "execution_count": 33,
      "outputs": []
    },
    {
      "cell_type": "code",
      "source": [
        "sonnets_char_model = LinesByChar(sonnets_text, state_size=4)"
      ],
      "metadata": {
        "id": "wbxVBtKCmO5B"
      },
      "execution_count": 34,
      "outputs": []
    },
    {
      "cell_type": "code",
      "source": [
        "for i in range(14):\n",
        "    print(sonnets_char_model.make_sentence())"
      ],
      "metadata": {
        "colab": {
          "base_uri": "https://localhost:8080/"
        },
        "id": "rBo65_VemO8h",
        "outputId": "16768076-b9ab-4523-a944-bfb543a37cab"
      },
      "execution_count": 35,
      "outputs": [
        {
          "output_type": "stream",
          "name": "stdout",
          "text": [
            "Until luck though then by a heaven's pleasure,\n",
            "My verse sober lovely gainst thou, alter's wonderive\n",
            "So I, before reign.\n",
            "To the to prone, thy see morn\n",
            "Pitiful each, is due images of truly five heigh--no deceiv'st my heart;\n",
            "Till doth pleasant them witness thy deem'd.\n",
            "That have your sea, all or for my friends upon my brow\n",
            "And our it in that he leave draineth;\n",
            "But thy doth show!\n",
            "That time's roses forsworn for me didst doth ince more it liberty ches well doth like a lives beauty's words of my might,\n",
            "But be cross:\n",
            "Nor not fate,\n",
            "You hast confound, or sure to flower,\n",
            "Suffer'd with that some affords, by that I may self in thee, my stores, my tatter tomb\n"
          ]
        }
      ]
    },
    {
      "cell_type": "code",
      "source": [
        "import json\n",
        "mood_data = json.loads(open(\"/content/moods.json\").read())\n",
        "moods = mood_data['moods']"
      ],
      "metadata": {
        "id": "MWrxejgAm9Kh"
      },
      "execution_count": 37,
      "outputs": []
    },
    {
      "cell_type": "code",
      "source": [
        "moods_text = \"\\n\".join(moods)"
      ],
      "metadata": {
        "id": "3yLRNie5m9Me"
      },
      "execution_count": 38,
      "outputs": []
    },
    {
      "cell_type": "code",
      "source": [
        "moods_char_model = LinesByChar(moods_text, state_size=3)"
      ],
      "metadata": {
        "id": "EbD3KjQrnOGa"
      },
      "execution_count": 39,
      "outputs": []
    },
    {
      "cell_type": "code",
      "source": [
        "for i in range(24):\n",
        "    print(moods_char_model.make_sentence())"
      ],
      "metadata": {
        "colab": {
          "base_uri": "https://localhost:8080/"
        },
        "id": "qd1JC3DqnOIT",
        "outputId": "6f19bfa4-bcdb-46e5-b880-91499592120b"
      },
      "execution_count": 40,
      "outputs": [
        {
          "output_type": "stream",
          "name": "stdout",
          "text": [
            "awkwarnished\n",
            "emporthrealive\n",
            "insensible\n",
            "spicidal\n",
            "insed\n",
            "obviolencholy\n",
            "merrifty\n",
            "prous\n",
            "worry\n",
            "cerened\n",
            "inclumsy\n",
            "discold\n",
            "gened\n",
            "wholicant\n",
            "tamed\n",
            "smotic\n",
            "impowerfective\n",
            "zealonesty\n",
            "bummedited\n",
            "exploiteful\n",
            "pamperious\n",
            "ambused\n",
            "spectic\n",
            "sicky\n"
          ]
        }
      ]
    }
  ]
}